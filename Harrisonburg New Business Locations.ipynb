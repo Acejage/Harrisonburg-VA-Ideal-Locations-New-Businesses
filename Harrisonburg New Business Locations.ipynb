{
 "cells": [
  {
   "cell_type": "markdown",
   "metadata": {},
   "source": [
    "# Harrisonburg, VA: Ideal Locations for New Businesses (Restaurant & Contractor)"
   ]
  },
  {
   "cell_type": "markdown",
   "metadata": {},
   "source": [
    "### **Problem Statement and Background**\n",
    "\n",
    "#### New businesses are always being created as new ideas for ways to serve the world are generated.  When setting up a new business, it can be challenging where to determine where to set up the physical office or establishment.  Customer quantity is of course one huge factor in the success of a business, so you want your office or business establishment to be close to where many potential customers will see and visit.  Customer stasification is another huge factor to success - people will keep coming back and bring friends if they have an enjoyable and memorable experience - and as a result, discounting the service of your business itself, you will want to be situated in a heart-warming, safe, and fun atmosphere.  Your service could be great, but it could be in a hard-to-reach or otherwise undesirable environment.  \n",
    "\n",
    "#### This is where *location data* comes in.  We have two new business owners: one who is establishing a new restaurant, and one who is establishing a new building contractor firm office.  We will explore where the most ideal places are to set up a new restaurant and a new building contractor firm would be in Harrisonburg, Virginia, as of early-mid 2020."
   ]
  },
  {
   "cell_type": "markdown",
   "metadata": {},
   "source": [
    "### **Data**"
   ]
  },
  {
   "cell_type": "markdown",
   "metadata": {},
   "source": [
    "##### This data analysis will consist of using data from **Foursquare API** and other sources, and will be broken up in two primary parts: the first for where a new restaurant could go, and the second for a new building contractor firm office."
   ]
  },
  {
   "cell_type": "markdown",
   "metadata": {},
   "source": [
    "#### For both new businesses, some esscentials will be knowing where the most common venues already exist.  More venues in a nearby area will attract more potential customers, but it may also mean more difficult competition if those venues are of the same business, so we will need to take that into consideration as well.  Likewise, we will want to consider other location factors for a new business, such as: foot traffic, accessibility and parking, image and history of the site, ordinances, and utility/rent/property taxes and such payments."
   ]
  },
  {
   "cell_type": "markdown",
   "metadata": {},
   "source": [
    "#### All of this data will be assembled from multiple sources and research, much of which will be placed in a CSV file, and will be used in tandem with Foursquare's API location venue data to determine the ideal location for both new businesses."
   ]
  },
  {
   "cell_type": "markdown",
   "metadata": {},
   "source": [
    "##### As a start, below is a brief look into the most common venues in Harrisonburg, VA.  All analysis is run using Python."
   ]
  },
  {
   "cell_type": "markdown",
   "metadata": {},
   "source": [
    "##### ------------------------------"
   ]
  },
  {
   "cell_type": "markdown",
   "metadata": {},
   "source": [
    "##### *Import needed libraries.*"
   ]
  },
  {
   "cell_type": "code",
   "execution_count": 1,
   "metadata": {},
   "outputs": [],
   "source": [
    "import pandas as pd\n",
    "import requests # library to handle requests\n",
    "from pandas.io.json import json_normalize # tranform JSON file into a pandas dataframe\n",
    "import numpy as np"
   ]
  },
  {
   "cell_type": "markdown",
   "metadata": {},
   "source": [
    "##### *Import data table containing Harrisonburg's latitude and longitude*"
   ]
  },
  {
   "cell_type": "code",
   "execution_count": 3,
   "metadata": {},
   "outputs": [
    {
     "data": {
      "text/html": [
       "<div>\n",
       "<style scoped>\n",
       "    .dataframe tbody tr th:only-of-type {\n",
       "        vertical-align: middle;\n",
       "    }\n",
       "\n",
       "    .dataframe tbody tr th {\n",
       "        vertical-align: top;\n",
       "    }\n",
       "\n",
       "    .dataframe thead th {\n",
       "        text-align: right;\n",
       "    }\n",
       "</style>\n",
       "<table border=\"1\" class=\"dataframe\">\n",
       "  <thead>\n",
       "    <tr style=\"text-align: right;\">\n",
       "      <th></th>\n",
       "      <th>City</th>\n",
       "      <th>Latitude</th>\n",
       "      <th>Longitude</th>\n",
       "    </tr>\n",
       "  </thead>\n",
       "  <tbody>\n",
       "    <tr>\n",
       "      <th>0</th>\n",
       "      <td>Harrisonburg</td>\n",
       "      <td>38.449569</td>\n",
       "      <td>-78.868916</td>\n",
       "    </tr>\n",
       "  </tbody>\n",
       "</table>\n",
       "</div>"
      ],
      "text/plain": [
       "           City   Latitude  Longitude\n",
       "0  Harrisonburg  38.449569 -78.868916"
      ]
     },
     "execution_count": 3,
     "metadata": {},
     "output_type": "execute_result"
    }
   ],
   "source": [
    "# import data table from CSV file\n",
    "import csv\n",
    "with open('Harrisonburg_Coordinates.csv') as csvfile:\n",
    "    readCSV = csv.reader(csvfile, delimiter=',')\n",
    "df = pd.read_csv('Harrisonburg_Coordinates.csv')\n",
    "df.head()"
   ]
  },
  {
   "cell_type": "markdown",
   "metadata": {},
   "source": [
    "##### *Connect to the Foursquare API*"
   ]
  },
  {
   "cell_type": "code",
   "execution_count": 4,
   "metadata": {},
   "outputs": [],
   "source": [
    "CLIENT_ID = 'FTGWFBW5V4DDR3DGJHIUTOMA1U2Z2CPGBX32O4DYDWNSPOZX' # Foursquare ID\n",
    "CLIENT_SECRET = 'T1YX0SIDMGB5GKCVORNDNYJH4URQRSCW0HPK1NI0CCAM35U3' # Foursquare Secret\n",
    "VERSION = '20180605' # Foursquare API version\n",
    "\n",
    "LIMIT = 100 # limit of number of venues returned by Foursquare API\n",
    "radius = 500 # define radius"
   ]
  },
  {
   "cell_type": "markdown",
   "metadata": {},
   "source": [
    "##### *Create function that obtains venues in Harrisonburg*"
   ]
  },
  {
   "cell_type": "code",
   "execution_count": 7,
   "metadata": {},
   "outputs": [],
   "source": [
    "def getNearbyVenues(names, latitudes, longitudes, radius=500):\n",
    "    \n",
    "    venues_list=[]\n",
    "    for name, lat, lng in zip(names, latitudes, longitudes):\n",
    "\n",
    "        # create the API request URL\n",
    "        url = 'https://api.foursquare.com/v2/venues/explore?&client_id={}&client_secret={}&v={}&ll={},{}&radius={}&limit={}'.format(\n",
    "            CLIENT_ID, \n",
    "            CLIENT_SECRET, \n",
    "            VERSION, \n",
    "            lat, \n",
    "            lng, \n",
    "            radius, \n",
    "            LIMIT)\n",
    "            \n",
    "        # make the GET request\n",
    "        results = requests.get(url).json()[\"response\"]['groups'][0]['items']\n",
    "        \n",
    "        # return only relevant information for each nearby venue\n",
    "        venues_list.append([(\n",
    "            name, \n",
    "            lat, \n",
    "            lng, \n",
    "            v['venue']['name'], \n",
    "            v['venue']['location']['lat'], \n",
    "            v['venue']['location']['lng'],  \n",
    "            v['venue']['categories'][0]['name']) for v in results])\n",
    "\n",
    "    nearby_venues = pd.DataFrame([item for venue_list in venues_list for item in venue_list])\n",
    "    nearby_venues.columns = ['City',\n",
    "                  'City Latitude',\n",
    "                  'City Longitude',\n",
    "                  'Venue', \n",
    "                  'Venue Latitude', \n",
    "                  'Venue Longitude', \n",
    "                  'Venue Category']\n",
    "    \n",
    "    return(nearby_venues)"
   ]
  },
  {
   "cell_type": "code",
   "execution_count": 8,
   "metadata": {},
   "outputs": [
    {
     "data": {
      "text/html": [
       "<div>\n",
       "<style scoped>\n",
       "    .dataframe tbody tr th:only-of-type {\n",
       "        vertical-align: middle;\n",
       "    }\n",
       "\n",
       "    .dataframe tbody tr th {\n",
       "        vertical-align: top;\n",
       "    }\n",
       "\n",
       "    .dataframe thead th {\n",
       "        text-align: right;\n",
       "    }\n",
       "</style>\n",
       "<table border=\"1\" class=\"dataframe\">\n",
       "  <thead>\n",
       "    <tr style=\"text-align: right;\">\n",
       "      <th></th>\n",
       "      <th>City</th>\n",
       "      <th>City Latitude</th>\n",
       "      <th>City Longitude</th>\n",
       "      <th>Venue</th>\n",
       "      <th>Venue Latitude</th>\n",
       "      <th>Venue Longitude</th>\n",
       "      <th>Venue Category</th>\n",
       "    </tr>\n",
       "  </thead>\n",
       "  <tbody>\n",
       "    <tr>\n",
       "      <th>0</th>\n",
       "      <td>Harrisonburg</td>\n",
       "      <td>38.449569</td>\n",
       "      <td>-78.868916</td>\n",
       "      <td>Jack Brown's Beer &amp; Burger Joint</td>\n",
       "      <td>38.448605</td>\n",
       "      <td>-78.868644</td>\n",
       "      <td>Burger Joint</td>\n",
       "    </tr>\n",
       "    <tr>\n",
       "      <th>1</th>\n",
       "      <td>Harrisonburg</td>\n",
       "      <td>38.449569</td>\n",
       "      <td>-78.868916</td>\n",
       "      <td>Billy Jack's Wing and Draft Shack</td>\n",
       "      <td>38.448430</td>\n",
       "      <td>-78.868762</td>\n",
       "      <td>Bar</td>\n",
       "    </tr>\n",
       "    <tr>\n",
       "      <th>2</th>\n",
       "      <td>Harrisonburg</td>\n",
       "      <td>38.449569</td>\n",
       "      <td>-78.868916</td>\n",
       "      <td>Bella Gelato &amp; Pastries</td>\n",
       "      <td>38.448489</td>\n",
       "      <td>-78.869982</td>\n",
       "      <td>Café</td>\n",
       "    </tr>\n",
       "    <tr>\n",
       "      <th>3</th>\n",
       "      <td>Harrisonburg</td>\n",
       "      <td>38.449569</td>\n",
       "      <td>-78.868916</td>\n",
       "      <td>Jimmy Madison's</td>\n",
       "      <td>38.448077</td>\n",
       "      <td>-78.869275</td>\n",
       "      <td>Southern / Soul Food Restaurant</td>\n",
       "    </tr>\n",
       "    <tr>\n",
       "      <th>4</th>\n",
       "      <td>Harrisonburg</td>\n",
       "      <td>38.449569</td>\n",
       "      <td>-78.868916</td>\n",
       "      <td>Bella Luna  Wood Fired Pizza</td>\n",
       "      <td>38.448714</td>\n",
       "      <td>-78.870291</td>\n",
       "      <td>Pizza Place</td>\n",
       "    </tr>\n",
       "  </tbody>\n",
       "</table>\n",
       "</div>"
      ],
      "text/plain": [
       "           City  City Latitude  City Longitude  \\\n",
       "0  Harrisonburg      38.449569      -78.868916   \n",
       "1  Harrisonburg      38.449569      -78.868916   \n",
       "2  Harrisonburg      38.449569      -78.868916   \n",
       "3  Harrisonburg      38.449569      -78.868916   \n",
       "4  Harrisonburg      38.449569      -78.868916   \n",
       "\n",
       "                               Venue  Venue Latitude  Venue Longitude  \\\n",
       "0   Jack Brown's Beer & Burger Joint       38.448605       -78.868644   \n",
       "1  Billy Jack's Wing and Draft Shack       38.448430       -78.868762   \n",
       "2            Bella Gelato & Pastries       38.448489       -78.869982   \n",
       "3                    Jimmy Madison's       38.448077       -78.869275   \n",
       "4       Bella Luna  Wood Fired Pizza       38.448714       -78.870291   \n",
       "\n",
       "                    Venue Category  \n",
       "0                     Burger Joint  \n",
       "1                              Bar  \n",
       "2                             Café  \n",
       "3  Southern / Soul Food Restaurant  \n",
       "4                      Pizza Place  "
      ]
     },
     "execution_count": 8,
     "metadata": {},
     "output_type": "execute_result"
    }
   ],
   "source": [
    "harrisonburg_venues = getNearbyVenues(names=df['City'], latitudes=df['Latitude'], longitudes=df['Longitude'])\n",
    "harrisonburg_venues.head()"
   ]
  },
  {
   "cell_type": "code",
   "execution_count": 10,
   "metadata": {},
   "outputs": [
    {
     "name": "stdout",
     "output_type": "stream",
     "text": [
      "There are 31 unique categories of venue.\n"
     ]
    }
   ],
   "source": [
    "print('There are {} unique categories of venue.'.format(len(harrisonburg_venues['Venue Category'].unique())))"
   ]
  },
  {
   "cell_type": "markdown",
   "metadata": {},
   "source": [
    "##### *Frequency of occurrence of venues in Harrisonburg*"
   ]
  },
  {
   "cell_type": "markdown",
   "metadata": {},
   "source": [
    "###### *(This code is also good for a dataset that contains more than one city.)*"
   ]
  },
  {
   "cell_type": "code",
   "execution_count": 11,
   "metadata": {},
   "outputs": [
    {
     "data": {
      "text/html": [
       "<div>\n",
       "<style scoped>\n",
       "    .dataframe tbody tr th:only-of-type {\n",
       "        vertical-align: middle;\n",
       "    }\n",
       "\n",
       "    .dataframe tbody tr th {\n",
       "        vertical-align: top;\n",
       "    }\n",
       "\n",
       "    .dataframe thead th {\n",
       "        text-align: right;\n",
       "    }\n",
       "</style>\n",
       "<table border=\"1\" class=\"dataframe\">\n",
       "  <thead>\n",
       "    <tr style=\"text-align: right;\">\n",
       "      <th></th>\n",
       "      <th>City</th>\n",
       "      <th>American Restaurant</th>\n",
       "      <th>Arcade</th>\n",
       "      <th>Asian Restaurant</th>\n",
       "      <th>Bank</th>\n",
       "      <th>Bar</th>\n",
       "      <th>Beer Store</th>\n",
       "      <th>Bike Shop</th>\n",
       "      <th>Brewery</th>\n",
       "      <th>Burger Joint</th>\n",
       "      <th>...</th>\n",
       "      <th>Motel</th>\n",
       "      <th>Museum</th>\n",
       "      <th>New American Restaurant</th>\n",
       "      <th>Pizza Place</th>\n",
       "      <th>Plaza</th>\n",
       "      <th>Seafood Restaurant</th>\n",
       "      <th>Snack Place</th>\n",
       "      <th>Southern / Soul Food Restaurant</th>\n",
       "      <th>Theater</th>\n",
       "      <th>Wine Shop</th>\n",
       "    </tr>\n",
       "  </thead>\n",
       "  <tbody>\n",
       "    <tr>\n",
       "      <th>0</th>\n",
       "      <td>Harrisonburg</td>\n",
       "      <td>0.04878</td>\n",
       "      <td>0.02439</td>\n",
       "      <td>0.02439</td>\n",
       "      <td>0.02439</td>\n",
       "      <td>0.121951</td>\n",
       "      <td>0.02439</td>\n",
       "      <td>0.02439</td>\n",
       "      <td>0.073171</td>\n",
       "      <td>0.02439</td>\n",
       "      <td>...</td>\n",
       "      <td>0.02439</td>\n",
       "      <td>0.02439</td>\n",
       "      <td>0.04878</td>\n",
       "      <td>0.04878</td>\n",
       "      <td>0.02439</td>\n",
       "      <td>0.02439</td>\n",
       "      <td>0.02439</td>\n",
       "      <td>0.02439</td>\n",
       "      <td>0.02439</td>\n",
       "      <td>0.02439</td>\n",
       "    </tr>\n",
       "  </tbody>\n",
       "</table>\n",
       "<p>1 rows × 32 columns</p>\n",
       "</div>"
      ],
      "text/plain": [
       "           City  American Restaurant   Arcade  Asian Restaurant     Bank  \\\n",
       "0  Harrisonburg              0.04878  0.02439           0.02439  0.02439   \n",
       "\n",
       "        Bar  Beer Store  Bike Shop   Brewery  Burger Joint  ...    Motel  \\\n",
       "0  0.121951     0.02439    0.02439  0.073171       0.02439  ...  0.02439   \n",
       "\n",
       "    Museum  New American Restaurant  Pizza Place    Plaza  Seafood Restaurant  \\\n",
       "0  0.02439                  0.04878      0.04878  0.02439             0.02439   \n",
       "\n",
       "   Snack Place  Southern / Soul Food Restaurant  Theater  Wine Shop  \n",
       "0      0.02439                          0.02439  0.02439    0.02439  \n",
       "\n",
       "[1 rows x 32 columns]"
      ]
     },
     "execution_count": 11,
     "metadata": {},
     "output_type": "execute_result"
    }
   ],
   "source": [
    "# one hot encoding\n",
    "harrisonburg_onehot = pd.get_dummies(harrisonburg_venues[['Venue Category']], prefix=\"\", prefix_sep=\"\")\n",
    "\n",
    "# add city column back to dataframe\n",
    "harrisonburg_onehot['City'] = harrisonburg_venues['City'] \n",
    "\n",
    "# move neighborhood column to the first column\n",
    "fixed_columns = [harrisonburg_onehot.columns[-1]] + list(harrisonburg_onehot.columns[:-1])\n",
    "harrisonburg_onehot = harrisonburg_onehot[fixed_columns]\n",
    "\n",
    "harrisonburg_grouped = harrisonburg_onehot.groupby('City').mean().reset_index()\n",
    "harrisonburg_grouped"
   ]
  },
  {
   "cell_type": "markdown",
   "metadata": {},
   "source": [
    "##### *Retrieve venue categories in Harrisonburg*"
   ]
  },
  {
   "cell_type": "code",
   "execution_count": 12,
   "metadata": {},
   "outputs": [],
   "source": [
    "def return_most_common_venues(row, num_top_venues):\n",
    "    row_categories = row.iloc[1:]\n",
    "    row_categories_sorted = row_categories.sort_values(ascending=False)\n",
    "    \n",
    "    return row_categories_sorted.index.values[0:num_top_venues]"
   ]
  },
  {
   "cell_type": "markdown",
   "metadata": {},
   "source": [
    "##### *View the most common venues in Harrisonburg*"
   ]
  },
  {
   "cell_type": "code",
   "execution_count": 14,
   "metadata": {},
   "outputs": [
    {
     "data": {
      "text/html": [
       "<div>\n",
       "<style scoped>\n",
       "    .dataframe tbody tr th:only-of-type {\n",
       "        vertical-align: middle;\n",
       "    }\n",
       "\n",
       "    .dataframe tbody tr th {\n",
       "        vertical-align: top;\n",
       "    }\n",
       "\n",
       "    .dataframe thead th {\n",
       "        text-align: right;\n",
       "    }\n",
       "</style>\n",
       "<table border=\"1\" class=\"dataframe\">\n",
       "  <thead>\n",
       "    <tr style=\"text-align: right;\">\n",
       "      <th></th>\n",
       "      <th>City</th>\n",
       "      <th>1st Most Common Venue</th>\n",
       "      <th>2nd Most Common Venue</th>\n",
       "      <th>3rd Most Common Venue</th>\n",
       "    </tr>\n",
       "  </thead>\n",
       "  <tbody>\n",
       "    <tr>\n",
       "      <th>0</th>\n",
       "      <td>Harrisonburg</td>\n",
       "      <td>Bar</td>\n",
       "      <td>Brewery</td>\n",
       "      <td>American Restaurant</td>\n",
       "    </tr>\n",
       "  </tbody>\n",
       "</table>\n",
       "</div>"
      ],
      "text/plain": [
       "           City 1st Most Common Venue 2nd Most Common Venue  \\\n",
       "0  Harrisonburg                   Bar               Brewery   \n",
       "\n",
       "  3rd Most Common Venue  \n",
       "0   American Restaurant  "
      ]
     },
     "execution_count": 14,
     "metadata": {},
     "output_type": "execute_result"
    }
   ],
   "source": [
    "num_top_venues = 3\n",
    "\n",
    "indicators = ['st', 'nd', 'rd']\n",
    "\n",
    "# create columns according to number of top venues\n",
    "columns = ['City']\n",
    "for ind in np.arange(num_top_venues):\n",
    "    try:\n",
    "        columns.append('{}{} Most Common Venue'.format(ind+1, indicators[ind]))\n",
    "    except:\n",
    "        columns.append('{}th Most Common Venue'.format(ind+1))\n",
    "\n",
    "# create a new dataframe\n",
    "harrisonburg_venues_sorted = pd.DataFrame(columns=columns)\n",
    "harrisonburg_venues_sorted['City'] = harrisonburg_grouped['City']\n",
    "\n",
    "for ind in np.arange(harrisonburg_grouped.shape[0]):\n",
    "    harrisonburg_venues_sorted.iloc[ind, 1:] = return_most_common_venues(harrisonburg_grouped.iloc[ind, :], num_top_venues)\n",
    "\n",
    "harrisonburg_venues_sorted.head()"
   ]
  },
  {
   "cell_type": "markdown",
   "metadata": {},
   "source": [
    "### We see that the three most common venues in Harrisonburg are Bars, Brewerys, and American Restaurants, which means we'll have to be extra careful about where we place that new restaurant of ours.  One thing's for sure - this city loves to drink."
   ]
  },
  {
   "cell_type": "markdown",
   "metadata": {},
   "source": [
    "##### This concludes the introduction to this analysis.  The next and final part will contain the analysis for both new businesses."
   ]
  },
  {
   "cell_type": "code",
   "execution_count": null,
   "metadata": {},
   "outputs": [],
   "source": []
  }
 ],
 "metadata": {
  "kernelspec": {
   "display_name": "Python 3",
   "language": "python",
   "name": "python3"
  },
  "language_info": {
   "codemirror_mode": {
    "name": "ipython",
    "version": 3
   },
   "file_extension": ".py",
   "mimetype": "text/x-python",
   "name": "python",
   "nbconvert_exporter": "python",
   "pygments_lexer": "ipython3",
   "version": "3.7.6"
  }
 },
 "nbformat": 4,
 "nbformat_minor": 4
}
